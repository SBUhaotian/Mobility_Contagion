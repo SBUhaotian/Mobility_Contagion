{
 "cells": [
  {
   "cell_type": "code",
   "execution_count": 2,
   "metadata": {},
   "outputs": [],
   "source": [
    "import pandas as pd\n",
    "import numpy as np\n",
    "from datetime import datetime\n",
    "from datetime import timedelta\n",
    "import networkx as nx\n",
    "from matplotlib import pyplot as plt\n",
    "import gc\n",
    "PROJ_HOME = \"../\""
   ]
  },
  {
   "cell_type": "markdown",
   "metadata": {},
   "source": [
    "# Build bipartite graph"
   ]
  },
  {
   "cell_type": "code",
   "execution_count": 3,
   "metadata": {},
   "outputs": [],
   "source": [
    "def build_bipartite_graph(df):\n",
    "    graph = nx.Graph()\n",
    "    for user in df.userId.unique():\n",
    "        graph.add_node(user, ntype='user')\n",
    "    for venue in df.venueId.unique():\n",
    "        graph.add_node(venue, ntype='venue')\n",
    "    \n",
    "    for index, row in df.iterrows():\n",
    "        userid = row['userId']\n",
    "        venueid = row['venueId']\n",
    "        t = row['posixtime']\n",
    "        if (graph.has_edge(userid, venueid) == False):\n",
    "            graph.add_edge(userid, venueid, histogram=np.zeros(150), weight=0)\n",
    "        day = int(t/24.)\n",
    "        graph.edges[userid, venueid]['histogram'][day] += 1\n",
    "        graph.edges[userid, venueid]['weight'] += 1\n",
    "    \n",
    "    # normalize\n",
    "    for u, v, data in graph.edges(data=True):\n",
    "        graph.edges[u, v]['histogram'] = data['histogram']/np.sum(data['histogram'])\n",
    "    \n",
    "    return graph\n",
    "\n",
    "def print_graph(graph):\n",
    "    print(\"nodes:\")\n",
    "    for u, data in graph.nodes(data=True):\n",
    "        print (u, data)\n",
    "    print(\"edges:\")\n",
    "    for u,v, data in graph.edges(data=True):\n",
    "        print (u,v, data)\n",
    "\n",
    "data = [\n",
    "     [100, \"R1\", 1000.0],\n",
    "     [100, \"R1\", 1000.05],\n",
    "     [101, \"R1\", 1000.1],\n",
    "     [102, \"R1\", 1000.2],\n",
    "     [103, \"R1\", 1002.3],\n",
    "\n",
    "     [100, \"R2\", 1003.0],\n",
    "     [100, \"R2\", 1004.5],\n",
    "   ]\n",
    "city = 'london'\n",
    "df = pd.read_csv(PROJ_HOME+\"data/\"+city+\"/checkin.csv\")\n",
    "graph = build_bipartite_graph(df)\n",
    "nx.write_gpickle(graph, PROJ_HOME+\"data/\"+city+\"/bipartite_graph\")"
   ]
  }
 ],
 "metadata": {
  "kernelspec": {
   "display_name": "Python 3",
   "language": "python",
   "name": "python3"
  },
  "language_info": {
   "codemirror_mode": {
    "name": "ipython",
    "version": 3
   },
   "file_extension": ".py",
   "mimetype": "text/x-python",
   "name": "python",
   "nbconvert_exporter": "python",
   "pygments_lexer": "ipython3",
   "version": "3.8.2"
  }
 },
 "nbformat": 4,
 "nbformat_minor": 4
}
